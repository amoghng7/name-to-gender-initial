{
 "cells": [
  {
   "cell_type": "markdown",
   "metadata": {},
   "source": [
    "## Classifying gender using names using Decision Tree Classifier"
   ]
  },
  {
   "cell_type": "markdown",
   "metadata": {},
   "source": [
    "### Importing all the requirements"
   ]
  },
  {
   "cell_type": "code",
   "execution_count": 6,
   "metadata": {},
   "outputs": [],
   "source": [
    "# For Preprocessing\n",
    "import pandas as pd\n",
    "import numpy as np\n",
    "from sklearn import preprocessing\n",
    "from sklearn.model_selection import train_test_split\n",
    "from sklearn.preprocessing import StandardScaler\n",
    "from sklearn.decomposition import PCA\n",
    "from sklearn.preprocessing import LabelBinarizer\n",
    "\n",
    "# For Training\n",
    "from sklearn.tree import DecisionTreeClassifier\n",
    "\n",
    "# For Validating\n",
    "from sklearn.metrics import confusion_matrix\n",
    "from sklearn.metrics import accuracy_score,recall_score,precision_score,f1_score\n",
    "\n",
    "# For Visualization\n",
    "import seaborn as sn\n",
    "import matplotlib.pyplot as plt\n",
    "from matplotlib.colors import ListedColormap\n",
    "from matplotlib.colors import ListedColormap\n",
    "import pylab as pl"
   ]
  },
  {
   "cell_type": "markdown",
   "metadata": {},
   "source": [
    "### Userdefined functions"
   ]
  },
  {
   "cell_type": "code",
   "execution_count": 7,
   "metadata": {},
   "outputs": [],
   "source": [
    "def get_features(data):\n",
    "    pass\n",
    "\n",
    "def scatter_plot(X_data, y_data, title=\"Classification Plot\", legend_1='legend-1', legend_2='legend-2', color_1='#76aad3', color_2='#5439a4'):\n",
    "    X = X_data\n",
    "    y = y_data\n",
    "    \n",
    "    \n",
    "    pca = PCA(n_components=2).fit(X)\n",
    "    pca_2d = pca.transform(X)\n",
    "\n",
    "    for i in range(0, pca_2d.shape[0]):\n",
    "        if y[i] == 1:\n",
    "            c1 = pl.scatter(pca_2d[i,0], pca_2d[i,1], c=color_1, marker='o')\n",
    "        elif y[i] == 0:\n",
    "            c2 = pl.scatter(pca_2d[i,0], pca_2d[i,1], c=color_2, marker='o')\n",
    "    \n",
    "    pl.legend([c1, c2], [legend_1, legend_2])\n",
    "    pl.title(title)\n",
    "    pl.figure(figsize=(40,20))\n",
    "    pl.show()"
   ]
  },
  {
   "cell_type": "markdown",
   "metadata": {},
   "source": [
    "### Data Preprocessing"
   ]
  },
  {
   "cell_type": "code",
   "execution_count": 8,
   "metadata": {},
   "outputs": [],
   "source": [
    "data = pd.read_csv(\"new_indian_name_dataset.csv\")\n",
    "le = preprocessing.LabelEncoder()\n",
    "lb = LabelBinarizer()\n",
    "ohe = preprocessing.OneHotEncoder(categories='auto')\n",
    "\n",
    "categorical = ['1-gram', '2-gram', '3-gram', 'vowel', 'sonorants']\n",
    "one_hot_enc = ['vowel','last_letter_vowel','sonorants']\n",
    "\n",
    "for header in categorical:\n",
    "    data[header] = le.fit_transform(data[header].astype(str))\n",
    "    \n",
    "data['gender'] = lb.fit_transform(data['gender'].values)\n",
    "\n",
    "data = data.drop(columns=['name', 'vowel'])\n",
    "\n",
    "# print(data.head())\n",
    "    \n",
    "# print(data.tail(20))\n",
    "\n",
    "X = data.iloc[:,:-1].values\n",
    "y = data.iloc[:,-1:].values\n",
    "\n",
    "###############################\n",
    "# One Hot Encoding gone wrong #\n",
    "###############################\n",
    "\n",
    "# ohe.fit(data[['vowel','last_letter_vowel','sonorants']])\n",
    "# ohe_data = ohe.transform(data[['vowel','last_letter_vowel','sonorants']]).toarray()\n",
    "\n",
    "# enc_data = pd.DataFrame(ohe_data)\n",
    "\n",
    "# print(\"ENC DATA\")\n",
    "# print(enc_data.head(20))\n",
    "\n",
    "# data = pd.concat([data.drop(one_hot_enc+['name'], axis=1), enc_data])\n",
    "\n",
    "# data.head(20)\n",
    "\n",
    "###############################\n",
    "\n",
    "X_train, X_test, y_train, y_test = train_test_split(X, y, test_size = 0.25, random_state = 0, stratify=y)\n",
    "\n",
    "sc = StandardScaler()\n",
    "X_train = sc.fit_transform(X_train)\n",
    "X_test = sc.transform(X_test)"
   ]
  },
  {
   "cell_type": "markdown",
   "metadata": {},
   "source": [
    "### Training and Testing the model"
   ]
  },
  {
   "cell_type": "code",
   "execution_count": 9,
   "metadata": {},
   "outputs": [],
   "source": [
    "# Fitting Naive Bayes to the Training set\n",
    "classifier = DecisionTreeClassifier(criterion = 'entropy', random_state = 0)\n",
    "classifier.fit(X_train, y_train.ravel())\n",
    "\n",
    "# Predicting the Test set results\n",
    "y_pred = classifier.predict(X_test)"
   ]
  },
  {
   "cell_type": "markdown",
   "metadata": {},
   "source": [
    "### Validating"
   ]
  },
  {
   "cell_type": "code",
   "execution_count": null,
   "metadata": {},
   "outputs": [
    {
     "name": "stdout",
     "output_type": "stream",
     "text": [
      "Accuracy: 96.51%\n",
      "Precision Score: 41.99%\n",
      "Recall Score: 12.93%\n",
      "F1 Score: 0.197736\n",
      "\n",
      "confusion Matrix: \n"
     ]
    },
    {
     "data": {
      "image/png": "[encoded data removed]",
      "text/plain": [
       "<Figure size 432x288 with 2 Axes>"
      ]
     },
     "metadata": {},
     "output_type": "display_data"
    }
   ],
   "source": [
    "cm = confusion_matrix(y_test, y_pred)\n",
    "\n",
    "print(\"Accuracy: {0:.2f}%\".format(accuracy_score(y_test, y_pred)*100))\n",
    "print(\"Precision Score: {0:.2f}%\".format(precision_score(y_test,y_pred)*100))\n",
    "print(\"Recall Score: {0:.2f}%\".format(recall_score(y_test,y_pred)*100))\n",
    "print(\"F1 Score: {0:f}\".format(f1_score(y_test,y_pred)))\n",
    "\n",
    "df_cm = pd.DataFrame(cm, index=['Male', 'Female'], columns=['Male', 'Female'])\n",
    "# plt.figure(figsize = (10,7))\n",
    "print(\"\\nconfusion Matrix: \")\n",
    "sn.set(font_scale=1.4)\n",
    "sn.heatmap(df_cm, annot=True,annot_kws={\"size\": 16}, cmap='Blues', fmt='g')\n",
    "plt.show()\n",
    "\n",
    "scatter_plot(X_train, y_train, 'Gender Classification Training Data', 'male', 'female')\n",
    "scatter_plot(X_test, y_test, 'Gender Classification Testing Data', 'male', 'female')\n",
    "scatter_plot(X_test, y_pred, 'Gender Classification Predicted Data', 'male', 'female')\n"
   ]
  },
  {
   "cell_type": "code",
   "execution_count": null,
   "metadata": {},
   "outputs": [],
   "source": []
  }
 ],
 "metadata": {
  "kernelspec": {
   "display_name": "Python 3",
   "language": "python",
   "name": "python3"
  },
  "language_info": {
   "codemirror_mode": {
    "name": "ipython",
    "version": 3
   },
   "file_extension": ".py",
   "mimetype": "text/x-python",
   "name": "python",
   "nbconvert_exporter": "python",
   "pygments_lexer": "ipython3",
   "version": "3.6.8"
  }
 },
 "nbformat": 4,
 "nbformat_minor": 2
}
