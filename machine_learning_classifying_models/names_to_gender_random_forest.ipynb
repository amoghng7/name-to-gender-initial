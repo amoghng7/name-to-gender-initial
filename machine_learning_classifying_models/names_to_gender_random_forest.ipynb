{
 "cells": [
  {
   "cell_type": "markdown",
   "metadata": {},
   "source": [
    "## Classifying gender using names using Random Forest Classifier"
   ]
  },
  {
   "cell_type": "markdown",
   "metadata": {},
   "source": [
    "### Importing all the requirements"
   ]
  },
  {
   "cell_type": "code",
   "execution_count": 2,
   "metadata": {},
   "outputs": [
    {
     "name": "stdout",
     "output_type": "stream",
     "text": [
      "Done!\n"
     ]
    }
   ],
   "source": [
    "# For Preprocessing\n",
    "import pandas as pd\n",
    "import numpy as np\n",
    "from sklearn import preprocessing\n",
    "from sklearn.model_selection import train_test_split, GridSearchCV, StratifiedKFold\n",
    "from sklearn.preprocessing import StandardScaler\n",
    "from sklearn.decomposition import PCA\n",
    "from sklearn.preprocessing import LabelBinarizer\n",
    "\n",
    "# For Training\n",
    "from sklearn.ensemble import RandomForestClassifier\n",
    "\n",
    "# For Validating\n",
    "from sklearn.metrics import confusion_matrix\n",
    "from sklearn.metrics import roc_curve, precision_recall_curve, auc, make_scorer, recall_score, accuracy_score, precision_score, confusion_matrix ,f1_score\n",
    "\n",
    "# For Visualization\n",
    "import seaborn as sn\n",
    "import matplotlib.pyplot as plt\n",
    "from matplotlib.colors import ListedColormap\n",
    "from matplotlib.colors import ListedColormap\n",
    "import pylab as pl\n",
    "from IPython.display import display\n",
    "\n",
    "# For Tracking\n",
    "# from mlflow import log_metric, log_param, log_artifacts\n",
    "\n",
    "print(\"Done!\")"
   ]
  },
  {
   "cell_type": "markdown",
   "metadata": {},
   "source": [
    "### Userdefined functions"
   ]
  },
  {
   "cell_type": "code",
   "execution_count": 3,
   "metadata": {},
   "outputs": [],
   "source": [
    "def get_features(data):\n",
    "    pass\n",
    "\n",
    "def scatter_plot(X_data, y_data, title=\"Classification Plot\", legend_1='legend-1', legend_2='legend-2', color_1='#76aad3', color_2='#5439a4'):\n",
    "    X = X_data\n",
    "    y = y_data\n",
    "    \n",
    "    \n",
    "    pca = PCA(n_components=2).fit(X)\n",
    "    pca_2d = pca.transform(X)\n",
    "\n",
    "    for i in range(0, pca_2d.shape[0]):\n",
    "        if y[i] == 1:\n",
    "            c1 = pl.scatter(pca_2d[i,0], pca_2d[i,1], c=color_1, marker='o')\n",
    "        elif y[i] == 0:\n",
    "            c2 = pl.scatter(pca_2d[i,0], pca_2d[i,1], c=color_2, marker='o')\n",
    "    \n",
    "    pl.legend([c1, c2], [legend_1, legend_2])\n",
    "    pl.title(title)\n",
    "    pl.figure(figsize=(40,20))\n",
    "    pl.show()\n",
    "\n"
   ]
  },
  {
   "cell_type": "markdown",
   "metadata": {},
   "source": [
    "### Data Preprocessing"
   ]
  },
  {
   "cell_type": "code",
   "execution_count": 4,
   "metadata": {},
   "outputs": [],
   "source": [
    "data = pd.read_csv(\"new_indian_name_dataset.csv\")\n",
    "le = preprocessing.LabelEncoder()\n",
    "lb = LabelBinarizer()\n",
    "ohe = preprocessing.OneHotEncoder(categories='auto')\n",
    "\n",
    "categorical = ['1-gram', '2-gram', '3-gram', 'vowel', 'sonorants']\n",
    "\n",
    "for header in categorical:\n",
    "    data[header] = le.fit_transform(data[header].astype(str))\n",
    "    \n",
    "data['gender'] = lb.fit_transform(data['gender'].values)\n",
    "\n",
    "data = data.drop(columns=['name', 'sonorants', 'last_letter_vowel'])\n",
    "\n",
    "# print(data.head())\n",
    "    \n",
    "# print(data.tail(20))\n",
    "\n",
    "X = data.iloc[:,:-1].values\n",
    "y = data.iloc[:,-1:].values\n",
    "\n",
    "###############################\n",
    "# One Hot Encoding gone wrong #\n",
    "###############################\n",
    "\n",
    "# ohe.fit(data[['vowel','last_letter_vowel','sonorants']])\n",
    "# ohe_data = ohe.transform(data[['vowel','last_letter_vowel','sonorants']]).toarray()\n",
    "\n",
    "# enc_data = pd.DataFrame(ohe_data)\n",
    "\n",
    "# print(\"ENC DATA\")\n",
    "# print(enc_data.head(20))\n",
    "\n",
    "# data = pd.concat([data.drop(one_hot_enc+['name'], axis=1), enc_data])\n",
    "\n",
    "# data.head(20)\n",
    "\n",
    "###############################\n",
    "\n",
    "X_train, X_test, y_train, y_test = train_test_split(X, y, test_size = 0.25, random_state = 0, stratify=y)\n",
    "\n",
    "sc = StandardScaler()\n",
    "X_train = sc.fit_transform(X_train)\n",
    "X_test = sc.transform(X_test)"
   ]
  },
  {
   "cell_type": "markdown",
   "metadata": {},
   "source": [
    "### Training and Testing the model"
   ]
  },
  {
   "cell_type": "code",
   "execution_count": 6,
   "metadata": {},
   "outputs": [
    {
     "name": "stderr",
     "output_type": "stream",
     "text": [
      "/home/amoghg/anaconda3/lib/python3.6/site-packages/sklearn/externals/joblib/externals/loky/process_executor.py:706: UserWarning: A worker stopped while some jobs were given to the executor. This can be caused by a too short worker timeout or by a memory leak.\n",
      "  \"timeout or by a memory leak.\", UserWarning\n",
      "/home/amoghg/anaconda3/lib/python3.6/site-packages/sklearn/externals/joblib/externals/loky/process_executor.py:706: UserWarning: A worker stopped while some jobs were given to the executor. This can be caused by a too short worker timeout or by a memory leak.\n",
      "  \"timeout or by a memory leak.\", UserWarning\n",
      "/home/amoghg/anaconda3/lib/python3.6/site-packages/sklearn/externals/joblib/externals/loky/process_executor.py:706: UserWarning: A worker stopped while some jobs were given to the executor. This can be caused by a too short worker timeout or by a memory leak.\n",
      "  \"timeout or by a memory leak.\", UserWarning\n",
      "/home/amoghg/anaconda3/lib/python3.6/site-packages/sklearn/externals/joblib/externals/loky/process_executor.py:706: UserWarning: A worker stopped while some jobs were given to the executor. This can be caused by a too short worker timeout or by a memory leak.\n",
      "  \"timeout or by a memory leak.\", UserWarning\n",
      "/home/amoghg/anaconda3/lib/python3.6/site-packages/sklearn/externals/joblib/externals/loky/process_executor.py:706: UserWarning: A worker stopped while some jobs were given to the executor. This can be caused by a too short worker timeout or by a memory leak.\n",
      "  \"timeout or by a memory leak.\", UserWarning\n",
      "/home/amoghg/anaconda3/lib/python3.6/site-packages/sklearn/externals/joblib/externals/loky/process_executor.py:706: UserWarning: A worker stopped while some jobs were given to the executor. This can be caused by a too short worker timeout or by a memory leak.\n",
      "  \"timeout or by a memory leak.\", UserWarning\n"
     ]
    },
    {
     "name": "stdout",
     "output_type": "stream",
     "text": [
      "Best params for precision_score\n",
      "{'max_depth': 25, 'max_features': 0.75, 'min_samples_split': 10, 'n_estimators': 300}\n",
      "Accuracy: 84.20%\n",
      "Precision Score: 80.66%\n",
      "Recall Score: 80.48%\n",
      "F1 Score: 0.805712\n",
      "\n",
      "Confusion matrix of Random Forest optimized for precision_score on the test data:\n"
     ]
    },
    {
     "data": {
      "image/png": "[encoded data removed]",
      "text/plain": [
       "<Figure size 432x288 with 2 Axes>"
      ]
     },
     "metadata": {},
     "output_type": "display_data"
    },
    {
     "data": {
      "text/html": [
       "<div>\n",
       "<style scoped>\n",
       "    .dataframe tbody tr th:only-of-type {\n",
       "        vertical-align: middle;\n",
       "    }\n",
       "\n",
       "    .dataframe tbody tr th {\n",
       "        vertical-align: top;\n",
       "    }\n",
       "\n",
       "    .dataframe thead th {\n",
       "        text-align: right;\n",
       "    }\n",
       "</style>\n",
       "<table border=\"1\" class=\"dataframe\">\n",
       "  <thead>\n",
       "    <tr style=\"text-align: right;\">\n",
       "      <th></th>\n",
       "      <th>mean_test_precision_score</th>\n",
       "      <th>mean_test_recall_score</th>\n",
       "      <th>mean_test_accuracy_score</th>\n",
       "      <th>param_max_depth</th>\n",
       "      <th>param_max_features</th>\n",
       "      <th>param_min_samples_split</th>\n",
       "      <th>param_n_estimators</th>\n",
       "    </tr>\n",
       "  </thead>\n",
       "  <tbody>\n",
       "    <tr>\n",
       "      <th>95</th>\n",
       "      <td>0.805</td>\n",
       "      <td>0.806</td>\n",
       "      <td>0.841</td>\n",
       "      <td>25</td>\n",
       "      <td>0.75</td>\n",
       "      <td>10</td>\n",
       "      <td>300</td>\n",
       "    </tr>\n",
       "    <tr>\n",
       "      <th>94</th>\n",
       "      <td>0.804</td>\n",
       "      <td>0.806</td>\n",
       "      <td>0.841</td>\n",
       "      <td>25</td>\n",
       "      <td>0.75</td>\n",
       "      <td>10</td>\n",
       "      <td>100</td>\n",
       "    </tr>\n",
       "    <tr>\n",
       "      <th>88</th>\n",
       "      <td>0.804</td>\n",
       "      <td>0.805</td>\n",
       "      <td>0.841</td>\n",
       "      <td>25</td>\n",
       "      <td>0.5</td>\n",
       "      <td>10</td>\n",
       "      <td>100</td>\n",
       "    </tr>\n",
       "    <tr>\n",
       "      <th>89</th>\n",
       "      <td>0.804</td>\n",
       "      <td>0.806</td>\n",
       "      <td>0.841</td>\n",
       "      <td>25</td>\n",
       "      <td>0.5</td>\n",
       "      <td>10</td>\n",
       "      <td>300</td>\n",
       "    </tr>\n",
       "    <tr>\n",
       "      <th>92</th>\n",
       "      <td>0.804</td>\n",
       "      <td>0.802</td>\n",
       "      <td>0.840</td>\n",
       "      <td>25</td>\n",
       "      <td>0.75</td>\n",
       "      <td>5</td>\n",
       "      <td>100</td>\n",
       "    </tr>\n",
       "  </tbody>\n",
       "</table>\n",
       "</div>"
      ],
      "text/plain": [
       "    mean_test_precision_score  mean_test_recall_score  \\\n",
       "95                      0.805                   0.806   \n",
       "94                      0.804                   0.806   \n",
       "88                      0.804                   0.805   \n",
       "89                      0.804                   0.806   \n",
       "92                      0.804                   0.802   \n",
       "\n",
       "    mean_test_accuracy_score param_max_depth param_max_features  \\\n",
       "95                     0.841              25               0.75   \n",
       "94                     0.841              25               0.75   \n",
       "88                     0.841              25                0.5   \n",
       "89                     0.841              25                0.5   \n",
       "92                     0.840              25               0.75   \n",
       "\n",
       "   param_min_samples_split param_n_estimators  \n",
       "95                      10                300  \n",
       "94                      10                100  \n",
       "88                      10                100  \n",
       "89                      10                300  \n",
       "92                       5                100  "
      ]
     },
     "metadata": {},
     "output_type": "display_data"
    },
    {
     "name": "stderr",
     "output_type": "stream",
     "text": [
      "/home/amoghg/anaconda3/lib/python3.6/site-packages/sklearn/externals/joblib/externals/loky/process_executor.py:706: UserWarning: A worker stopped while some jobs were given to the executor. This can be caused by a too short worker timeout or by a memory leak.\n",
      "  \"timeout or by a memory leak.\", UserWarning\n"
     ]
    },
    {
     "name": "stdout",
     "output_type": "stream",
     "text": [
      "Best params for recall_score\n",
      "{'max_depth': 15, 'max_features': 0.1, 'min_samples_split': 10, 'n_estimators': 300}\n",
      "Accuracy: 84.14%\n",
      "Precision Score: 79.23%\n",
      "Recall Score: 82.72%\n",
      "F1 Score: 0.809365\n",
      "\n",
      "Confusion matrix of Random Forest optimized for recall_score on the test data:\n"
     ]
    },
    {
     "data": {
      "image/png": "[encoded data removed]",
      "text/plain": [
       "<Figure size 432x288 with 2 Axes>"
      ]
     },
     "metadata": {},
     "output_type": "display_data"
    },
    {
     "name": "stdout",
     "output_type": "stream",
     "text": [
      "     pred_neg  pred_pos\n",
      "neg     12489      5072\n",
      "pos       916     11141\n"
     ]
    },
    {
     "data": {
      "image/png": "[encoded data removed]",
      "text/plain": [
       "<Figure size 576x576 with 1 Axes>"
      ]
     },
     "metadata": {},
     "output_type": "display_data"
    }
   ],
   "source": [
    "# Fitting Naive Bayes to the Training set\n",
    "classifier = RandomForestClassifier(n_estimators = 100, n_jobs=-1)\n",
    "\n",
    "# print(X_test[:10])\n",
    "\n",
    "param_grid = {\n",
    "    'min_samples_split': [3, 5, 10], \n",
    "    'n_estimators' : [100, 300],\n",
    "    'max_depth': [3, 5, 15, 25],\n",
    "    'max_features': [0.1, 0.25, 0.5, 0.75]\n",
    "}\n",
    "\n",
    "scorers = {\n",
    "    'precision_score': make_scorer(precision_score),\n",
    "    'recall_score': make_scorer(recall_score),\n",
    "    'accuracy_score': make_scorer(accuracy_score)\n",
    "}\n",
    "\n",
    "def grid_search_wrapper(refit_score='recall_score'):\n",
    "    \"\"\"\n",
    "    fits a GridSearchCV classifier using refit_score for optimization\n",
    "    prints classifier performance metrics\n",
    "    \"\"\"\n",
    "    skf = StratifiedKFold(n_splits=10)\n",
    "    grid_search = GridSearchCV(classifier, param_grid, scoring=scorers, refit=refit_score,\n",
    "                           cv=skf, return_train_score=True, n_jobs=-1)\n",
    "    grid_search.fit(X_train, y_train.ravel())\n",
    "\n",
    "    # make the predictions\n",
    "    y_pred = grid_search.predict(X_test)\n",
    "\n",
    "    print('Best params for {}'.format(refit_score))\n",
    "    print(grid_search.best_params_)\n",
    "    \n",
    "    print(\"Accuracy: {0:.2f}%\".format(accuracy_score(y_test, y_pred)*100))\n",
    "    print(\"Precision Score: {0:.2f}%\".format(precision_score(y_test,y_pred)*100))\n",
    "    print(\"Recall Score: {0:.2f}%\".format(recall_score(y_test,y_pred)*100))\n",
    "    print(\"F1 Score: {0:f}\".format(f1_score(y_test,y_pred)))\n",
    "\n",
    "    # confusion matrix on the test data.\n",
    "    print('\\nConfusion matrix of Random Forest optimized for {} on the test data:'.format(refit_score))\n",
    "#     print(pd.DataFrame(confusion_matrix(y_test, y_pred),\n",
    "#                  columns=['male', 'female'], index=['M', 'F']))\n",
    "    sn.set(font_scale=1.4)\n",
    "    df_cm = pd.DataFrame(confusion_matrix(y_test, y_pred), index=['Male', 'Female'], columns=['Male', 'Female'])\n",
    "    sn.heatmap(df_cm, annot=True,annot_kws={\"size\": 16}, cmap='Blues', fmt='g')\n",
    "    plt.show()\n",
    "    return grid_search\n",
    "\n",
    "grid_search_clf = grid_search_wrapper(refit_score='precision_score')\n",
    "\n",
    "results = pd.DataFrame(grid_search_clf.cv_results_)\n",
    "results = results.sort_values(by='mean_test_precision_score', ascending=False)\n",
    "display(results[['mean_test_precision_score', 'mean_test_recall_score', 'mean_test_accuracy_score', 'param_max_depth', 'param_max_features', 'param_min_samples_split', 'param_n_estimators']].round(3).head())\n",
    "\n",
    "grid_search_clf = grid_search_wrapper(refit_score='recall_score')\n",
    "\n",
    "results = pd.DataFrame(grid_search_clf.cv_results_)\n",
    "results = results.sort_values(by='mean_test_precision_score', ascending=False)\n",
    "results[['mean_test_precision_score', 'mean_test_recall_score', 'mean_test_accuracy_score', 'param_max_depth', 'param_max_features', 'param_min_samples_split', 'param_n_estimators']].round(3).head()\n",
    "\n",
    "classifier.fit(X_train, y_train.ravel())\n",
    "\n",
    "# # Predicting the Test set results\n",
    "# y_pred = classifier.predict(X_test)\n",
    "\n",
    "y_scores = classifier.predict_proba(X_test)[:, 1]\n",
    "p, r, thresholds = precision_recall_curve(y_test, y_scores)\n",
    "\n",
    "def adjusted_classes(y_scores, t):\n",
    "    \"\"\"\n",
    "    This function adjusts class predictions based on the prediction threshold (t).\n",
    "    Will only work for binary classification problems.\n",
    "    \"\"\"\n",
    "    return [1 if y >= t else 0 for y in y_scores]\n",
    "\n",
    "def precision_recall_threshold(p, r, thresholds, t=0.5):\n",
    "    \"\"\"\n",
    "    plots the precision recall curve and shows the current value for each\n",
    "    by identifying the classifier's threshold (t).\n",
    "    \"\"\"\n",
    "    \n",
    "    # generate new class predictions based on the adjusted_classes\n",
    "    # function above and view the resulting confusion matrix.\n",
    "    y_pred_adj = adjusted_classes(y_scores, t)\n",
    "    print(pd.DataFrame(confusion_matrix(y_test, y_pred_adj),\n",
    "                       columns=['pred_neg', 'pred_pos'], \n",
    "                       index=['neg', 'pos']))\n",
    "    \n",
    "    # plot the curve\n",
    "    plt.figure(figsize=(8,8))\n",
    "    plt.title(\"Precision and Recall curve ^ = current threshold\")\n",
    "    plt.step(r, p, color='b', alpha=0.2,\n",
    "             where='post')\n",
    "    plt.fill_between(r, p, step='post', alpha=0.2,\n",
    "                     color='b')\n",
    "    plt.ylim([0.5, 1.01]);\n",
    "    plt.xlim([0.5, 1.01]);\n",
    "    plt.xlabel('Recall');\n",
    "    plt.ylabel('Precision');\n",
    "    \n",
    "    # plot the current threshold on the line\n",
    "    close_default_clf = np.argmin(np.abs(thresholds - t))\n",
    "    plt.plot(r[close_default_clf], p[close_default_clf], '^', c='k',\n",
    "            markersize=15)\n",
    "    \n",
    "threshold = 0.20\n",
    "precision_recall_threshold(p, r, thresholds, threshold)\n",
    "threshold += 0.01"
   ]
  },
  {
   "cell_type": "markdown",
   "metadata": {},
   "source": [
    "### Validating"
   ]
  },
  {
   "cell_type": "code",
   "execution_count": null,
   "metadata": {},
   "outputs": [],
   "source": [
    "cm = confusion_matrix(y_test, y_pred)\n",
    "\n",
    "print(\"Accuracy: {0:.2f}%\".format(accuracy_score(y_test, y_pred)*100))\n",
    "print(\"Precision Score: {0:.2f}%\".format(precision_score(y_test,y_pred)*100))\n",
    "print(\"Recall Score: {0:.2f}%\".format(recall_score(y_test,y_pred)*100))\n",
    "print(\"F1 Score: {0:f}\".format(f1_score(y_test,y_pred)))\n",
    "\n",
    "df_cm = pd.DataFrame(cm, index=['Male', 'Female'], columns=['Male', 'Female'])\n",
    "# plt.figure(figsize = (10,7))\n",
    "print(\"\\nconfusion Matrix: \")\n",
    "sn.set(font_scale=1.4)\n",
    "sn.heatmap(df_cm, annot=True,annot_kws={\"size\": 16}, cmap='Blues', fmt='g')\n",
    "plt.show()\n",
    "\n",
    "# scatter_plot(X_train, y_train, 'Gender Classification Training Data', 'male', 'female')\n",
    "# scatter_plot(X_test, y_test, 'Gender Classification Testing Data', 'male', 'female')\n",
    "# scatter_plot(X_test, y_pred, 'Gender Classification Predicted Data', 'male', 'female')\n"
   ]
  },
  {
   "cell_type": "code",
   "execution_count": null,
   "metadata": {},
   "outputs": [],
   "source": []
  }
 ],
 "metadata": {
  "kernelspec": {
   "display_name": "Python 3",
   "language": "python",
   "name": "python3"
  },
  "language_info": {
   "codemirror_mode": {
    "name": "ipython",
    "version": 3
   },
   "file_extension": ".py",
   "mimetype": "text/x-python",
   "name": "python",
   "nbconvert_exporter": "python",
   "pygments_lexer": "ipython3",
   "version": "3.6.8"
  }
 },
 "nbformat": 4,
 "nbformat_minor": 2
}
